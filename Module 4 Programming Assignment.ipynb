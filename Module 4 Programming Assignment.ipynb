{
 "cells": [
  {
   "cell_type": "code",
   "execution_count": null,
   "id": "4733a81c-eb26-4915-aa6b-a98238608f3e",
   "metadata": {},
   "outputs": [],
   "source": [
    "#Author Kiley Gilbert \n",
    "#Due date 2/9/25\n",
    "#11.1\n",
    "\n",
    "with open ('zoo.py', 'w') as f:\n",
    "    f.write(\"\"\"def hours():print ('Open 9 to 5 everyday')\"\"\")"
   ]
  },
  {
   "cell_type": "code",
   "execution_count": null,
   "id": "ce2a7d77-9006-49ad-9422-94eb3d216a8d",
   "metadata": {},
   "outputs": [],
   "source": [
    "#11.2\n",
    "import zoo \n",
    "zoo.hours()\n",
    "import zoo as menagerie\n",
    "menagerie.hours()"
   ]
  },
  {
   "cell_type": "code",
   "execution_count": null,
   "id": "b80f7304-4e9e-421d-a366-2e7161e761f7",
   "metadata": {},
   "outputs": [],
   "source": [
    "#16.8\n",
    "\n"
   ]
  }
 ],
 "metadata": {
  "kernelspec": {
   "display_name": "anaconda-2024.02-py310",
   "language": "python",
   "name": "conda-env-anaconda-2024.02-py310-py"
  },
  "language_info": {
   "codemirror_mode": {
    "name": "ipython",
    "version": 3
   },
   "file_extension": ".py",
   "mimetype": "text/x-python",
   "name": "python",
   "nbconvert_exporter": "python",
   "pygments_lexer": "ipython3",
   "version": "3.10.14"
  }
 },
 "nbformat": 4,
 "nbformat_minor": 5
}
